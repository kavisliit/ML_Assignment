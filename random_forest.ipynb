{
 "cells": [
  {
   "cell_type": "code",
   "execution_count": 1,
   "id": "785a5644",
   "metadata": {},
   "outputs": [
    {
     "data": {
      "text/html": [
       "<div>\n",
       "<style scoped>\n",
       "    .dataframe tbody tr th:only-of-type {\n",
       "        vertical-align: middle;\n",
       "    }\n",
       "\n",
       "    .dataframe tbody tr th {\n",
       "        vertical-align: top;\n",
       "    }\n",
       "\n",
       "    .dataframe thead th {\n",
       "        text-align: right;\n",
       "    }\n",
       "</style>\n",
       "<table border=\"1\" class=\"dataframe\">\n",
       "  <thead>\n",
       "    <tr style=\"text-align: right;\">\n",
       "      <th></th>\n",
       "      <th>Gender</th>\n",
       "      <th>Age</th>\n",
       "      <th>Education Level</th>\n",
       "      <th>Marital Status</th>\n",
       "      <th>Household Size</th>\n",
       "      <th>Household Income</th>\n",
       "      <th>Full Time Work</th>\n",
       "      <th>Work Type</th>\n",
       "      <th>Time In Current Job</th>\n",
       "      <th>Out Of Work</th>\n",
       "      <th>...</th>\n",
       "      <th>Sedentary Time</th>\n",
       "      <th>Vigorous Work</th>\n",
       "      <th>Moderate Work</th>\n",
       "      <th>Cant Work</th>\n",
       "      <th>Lifetime Alcohol Consumption</th>\n",
       "      <th>Pregnant</th>\n",
       "      <th>Health Problem Heart</th>\n",
       "      <th>Health Problem Diabetes</th>\n",
       "      <th>Current Smoker</th>\n",
       "      <th>Depression</th>\n",
       "    </tr>\n",
       "  </thead>\n",
       "  <tbody>\n",
       "    <tr>\n",
       "      <th>0</th>\n",
       "      <td>0</td>\n",
       "      <td>44</td>\n",
       "      <td>Some College or AA Degree</td>\n",
       "      <td>Married</td>\n",
       "      <td>4</td>\n",
       "      <td>$75K+</td>\n",
       "      <td>&lt;NA&gt;</td>\n",
       "      <td>Private Wage Worker</td>\n",
       "      <td>324.0</td>\n",
       "      <td>&lt;NA&gt;</td>\n",
       "      <td>...</td>\n",
       "      <td>150.0</td>\n",
       "      <td>No</td>\n",
       "      <td>No</td>\n",
       "      <td>No</td>\n",
       "      <td>Yes</td>\n",
       "      <td>No</td>\n",
       "      <td>No</td>\n",
       "      <td>No</td>\n",
       "      <td>&lt;NA&gt;</td>\n",
       "      <td>0</td>\n",
       "    </tr>\n",
       "    <tr>\n",
       "      <th>1</th>\n",
       "      <td>1</td>\n",
       "      <td>70</td>\n",
       "      <td>College Graduate or Above</td>\n",
       "      <td>Married</td>\n",
       "      <td>2</td>\n",
       "      <td>$75K+</td>\n",
       "      <td>No</td>\n",
       "      <td>Private Wage Worker</td>\n",
       "      <td>96.0</td>\n",
       "      <td>&lt;NA&gt;</td>\n",
       "      <td>...</td>\n",
       "      <td>150.0</td>\n",
       "      <td>No</td>\n",
       "      <td>No</td>\n",
       "      <td>No</td>\n",
       "      <td>&lt;NA&gt;</td>\n",
       "      <td>&lt;NA&gt;</td>\n",
       "      <td>No</td>\n",
       "      <td>No</td>\n",
       "      <td>&lt;NA&gt;</td>\n",
       "      <td>0</td>\n",
       "    </tr>\n",
       "  </tbody>\n",
       "</table>\n",
       "<p>2 rows × 23 columns</p>\n",
       "</div>"
      ],
      "text/plain": [
       "   Gender  Age            Education Level Marital Status  Household Size  \\\n",
       "0       0   44  Some College or AA Degree        Married               4   \n",
       "1       1   70  College Graduate or Above        Married               2   \n",
       "\n",
       "  Household Income Full Time Work            Work Type  Time In Current Job  \\\n",
       "0            $75K+           <NA>  Private Wage Worker                324.0   \n",
       "1            $75K+             No  Private Wage Worker                 96.0   \n",
       "\n",
       "  Out Of Work  ... Sedentary Time  Vigorous Work Moderate Work  Cant Work  \\\n",
       "0        <NA>  ...          150.0             No            No         No   \n",
       "1        <NA>  ...          150.0             No            No         No   \n",
       "\n",
       "  Lifetime Alcohol Consumption Pregnant Health Problem Heart  \\\n",
       "0                          Yes       No                   No   \n",
       "1                         <NA>     <NA>                   No   \n",
       "\n",
       "  Health Problem Diabetes Current Smoker Depression  \n",
       "0                      No           <NA>          0  \n",
       "1                      No           <NA>          0  \n",
       "\n",
       "[2 rows x 23 columns]"
      ]
     },
     "execution_count": 1,
     "metadata": {},
     "output_type": "execute_result"
    }
   ],
   "source": [
    "# Import required librareis\n",
    "import pandas as pd\n",
    "import numpy as np\n",
    "from sklearn.preprocessing import LabelEncoder\n",
    "from sklearn.impute import SimpleImputer\n",
    "from sklearn.preprocessing import StandardScaler\n",
    "from sklearn.feature_selection import SelectKBest\n",
    "from sklearn.feature_selection import chi2\n",
    "from sklearn.model_selection import train_test_split\n",
    "from sklearn.ensemble import RandomForestClassifier\n",
    "from sklearn.metrics import classification_report\n",
    "from sklearn.model_selection import GridSearchCV\n",
    "\n",
    "# Load the data\n",
    "data = pd.read_csv('depression.csv')\n",
    "\n",
    "########## Data Preproccesing ########################\n",
    "\n",
    "# Extract the columns that suitable for model training\n",
    "data = data[[\"Gender\",\"Age\",\"Education Level\",\"Marital Status\",\"Household Size\",\"Household Income\",\"Full Time Work\",\"Work Type\",\"Time In Current Job\",\"Out Of Work\",\"Trouble Sleeping History\",\"Sleep Hours\",\"Vigorous Recreation\",\"Sedentary Time\",\"Vigorous Work\",\"Moderate Work\",\"Cant Work\",\"Lifetime Alcohol Consumption\",\"Pregnant\",\"Health Problem Heart\",\"Health Problem Diabetes\",\"Current Smoker\",\"Depression\"]]\n",
    "\n",
    "# Replace \"missing\" with NaN in the entire dataframe\n",
    "data = data.apply(lambda x: x.str.strip().replace('Missing', pd.NA) if x.dtype == \"object\" else x)\n",
    "\n",
    "######### Encoding categorical values to numerical #############\n",
    "\n",
    "encoder = LabelEncoder()\n",
    "## encode the Gender column\n",
    "data['Gender'] = encoder.fit_transform(data['Gender'])\n",
    "\n",
    "## encode the Depression column\n",
    "data[\"Depression\"] = data[\"Depression\"].replace({\"Not Depressed\": 0, \"Depressed\": 1})\n",
    "\n",
    "data.head(2)"
   ]
  },
  {
   "cell_type": "code",
   "execution_count": 2,
   "id": "fa7cd2db",
   "metadata": {},
   "outputs": [
    {
     "data": {
      "text/plain": [
       "(36259, 23)"
      ]
     },
     "execution_count": 2,
     "metadata": {},
     "output_type": "execute_result"
    }
   ],
   "source": [
    "data.shape                                                          "
   ]
  },
  {
   "cell_type": "code",
   "execution_count": 3,
   "id": "6b23e149",
   "metadata": {},
   "outputs": [
    {
     "data": {
      "text/plain": [
       "Gender                              0\n",
       "Age                                 0\n",
       "Education Level                  2157\n",
       "Marital Status                   1636\n",
       "Household Size                      0\n",
       "Household Income                 1813\n",
       "Full Time Work                  30492\n",
       "Work Type                       16284\n",
       "Time In Current Job                 0\n",
       "Out Of Work                     21461\n",
       "Trouble Sleeping History            0\n",
       "Sleep Hours                         0\n",
       "Vigorous Recreation                 3\n",
       "Sedentary Time                      0\n",
       "Vigorous Work                       0\n",
       "Moderate Work                       0\n",
       "Cant Work                           0\n",
       "Lifetime Alcohol Consumption    22323\n",
       "Pregnant                        28366\n",
       "Health Problem Heart                0\n",
       "Health Problem Diabetes             0\n",
       "Current Smoker                  20789\n",
       "Depression                          0\n",
       "dtype: int64"
      ]
     },
     "execution_count": 3,
     "metadata": {},
     "output_type": "execute_result"
    }
   ],
   "source": [
    "data.isnull().sum()"
   ]
  },
  {
   "cell_type": "code",
   "execution_count": 4,
   "id": "54ded2f9",
   "metadata": {},
   "outputs": [],
   "source": [
    "# Drop the columns that have more than 10000 null values\n",
    "data = data.dropna(axis=1, thresh=len(data)-10000)\n",
    "\n",
    "# Drop the rows that contain any null value\n",
    "data = data.dropna(axis=0)"
   ]
  },
  {
   "cell_type": "code",
   "execution_count": 5,
   "id": "a98e4fb1",
   "metadata": {},
   "outputs": [
    {
     "data": {
      "text/plain": [
       "Gender                -0.077534\n",
       "Age                   -0.010262\n",
       "Household Size        -0.007909\n",
       "Time In Current Job   -0.087375\n",
       "Sleep Hours           -0.085884\n",
       "Sedentary Time         0.033815\n",
       "Depression             1.000000\n",
       "Name: Depression, dtype: float64"
      ]
     },
     "execution_count": 5,
     "metadata": {},
     "output_type": "execute_result"
    }
   ],
   "source": [
    "data.corr()[\"Depression\"]"
   ]
  },
  {
   "cell_type": "code",
   "execution_count": 6,
   "id": "4c53255a",
   "metadata": {},
   "outputs": [
    {
     "data": {
      "text/plain": [
       "0    29578\n",
       "1     2838\n",
       "Name: Depression, dtype: int64"
      ]
     },
     "execution_count": 6,
     "metadata": {},
     "output_type": "execute_result"
    }
   ],
   "source": [
    "data[\"Depression\"].value_counts()"
   ]
  },
  {
   "cell_type": "code",
   "execution_count": 7,
   "id": "1068f265",
   "metadata": {},
   "outputs": [
    {
     "data": {
      "text/plain": [
       "College or Degree            9715\n",
       "College Graduate or Above    7528\n",
       "High School                  7517\n",
       "9-11th Grade                 4541\n",
       "Less Than 9th Grade          3115\n",
       "Name: Education Level, dtype: int64"
      ]
     },
     "execution_count": 7,
     "metadata": {},
     "output_type": "execute_result"
    }
   ],
   "source": [
    "\n",
    "# Replace the \"Some College or AA Degree\" category with \"College\"\n",
    "data[\"Education Level\"] = data[\"Education Level\"].replace(\"Some College or AA Degree\", \"College or Degree\")\n",
    "\n",
    "# view available categories in Education Level column \n",
    "data[\"Education Level\"].value_counts()"
   ]
  },
  {
   "cell_type": "code",
   "execution_count": 8,
   "id": "32807b93",
   "metadata": {},
   "outputs": [
    {
     "data": {
      "text/plain": [
       "Married          16781\n",
       "Never Married     5765\n",
       "Divorced          3619\n",
       "Partner           2643\n",
       "Widowed           2528\n",
       "Separated         1080\n",
       "Name: Marital Status, dtype: int64"
      ]
     },
     "execution_count": 8,
     "metadata": {},
     "output_type": "execute_result"
    }
   ],
   "source": [
    "# view available categories in Marital Status column \n",
    "data[\"Marital Status\"].value_counts()"
   ]
  },
  {
   "cell_type": "code",
   "execution_count": 9,
   "id": "5f5de533",
   "metadata": {},
   "outputs": [
    {
     "data": {
      "text/plain": [
       "Above 40k    17916\n",
       "Below 40k    14500\n",
       "Name: Household Income, dtype: int64"
      ]
     },
     "execution_count": 9,
     "metadata": {},
     "output_type": "execute_result"
    }
   ],
   "source": [
    "\n",
    "# Define a custom function to categorize income\n",
    "def categorize_income(income):\n",
    "    if income in [\"Below $5K\", \"Below $10K\", \"Below $15K\", \"Below $20K\", \"Below $25K\", \"Below $35K\"]:\n",
    "        return \"Below 40k\"\n",
    "    else:\n",
    "        return \"Above 40k\"\n",
    "\n",
    "# Apply the custom function to the \"Household Income\" variable\n",
    "data[\"Household Income\"] = data[\"Household Income\"].apply(categorize_income)\n",
    "\n",
    "# view available categories in Household Income column \n",
    "data[\"Household Income\"].value_counts()"
   ]
  },
  {
   "cell_type": "code",
   "execution_count": 10,
   "id": "0434873b",
   "metadata": {},
   "outputs": [],
   "source": [
    "## encode the Trouble Sleeping column\n",
    "data[\"Trouble Sleeping\"] = data[\"Trouble Sleeping History\"].replace({\"Yes\": 1, \"No\": 0})\n"
   ]
  },
  {
   "cell_type": "code",
   "execution_count": 11,
   "id": "ce5cd75e",
   "metadata": {},
   "outputs": [],
   "source": [
    "## encode the Vigorous Recreation column and set to a new colum called Recreation\n",
    "data[\"Recreation\"] = data[\"Vigorous Recreation\"].replace({\"Yes\": 1, \"No\": 0})\n"
   ]
  },
  {
   "cell_type": "code",
   "execution_count": 12,
   "id": "2ddb413b",
   "metadata": {},
   "outputs": [],
   "source": [
    "## encode the Vigorous Work column\n",
    "data[\"Vigorous Work\"] = data[\"Vigorous Work\"].replace({\"Yes\": 1, \"No\": 0})"
   ]
  },
  {
   "cell_type": "code",
   "execution_count": 13,
   "id": "9facefed",
   "metadata": {},
   "outputs": [],
   "source": [
    "## encode the Moderate Work column\n",
    "data[\"Moderate Work\"] = data[\"Moderate Work\"].replace({\"Yes\": 1, \"No\": 0})"
   ]
  },
  {
   "cell_type": "code",
   "execution_count": 14,
   "id": "c490d8c7",
   "metadata": {},
   "outputs": [],
   "source": [
    "## encode the Cant Work column and set to a new colum called Can Work\n",
    "data[\"Can Work\"] = data[\"Cant Work\"].replace({\"Yes\": 0, \"No\": 1})"
   ]
  },
  {
   "cell_type": "code",
   "execution_count": 15,
   "id": "61a5058d",
   "metadata": {},
   "outputs": [],
   "source": [
    "## encode the Health Problem Heart column and set to a new colum called Heart Problem\n",
    "data[\"Heart Problem\"] = data[\"Health Problem Heart\"].replace({\"Yes\": 1, \"No\": 0})\n",
    "\n",
    "## encode the Health Problem Diabetes column and set to a new colum called Diabetes\n",
    "data[\"Diabetes\"] = data[\"Health Problem Diabetes\"].replace({\"Yes\": 1, \"No\": 0})\n",
    "\n",
    "## specify the columns that need to droped because we assigned the content to new columns\n",
    "columns_to_drop = [\"Trouble Sleeping History\", \"Vigorous Recreation\", \"Cant Work\",\"Health Problem Diabetes\",\"Health Problem Heart\"]\n",
    "\n",
    "# Use the drop() method to drop the columns\n",
    "data = data.drop(columns_to_drop, axis=1)"
   ]
  },
  {
   "cell_type": "code",
   "execution_count": 16,
   "id": "30084891",
   "metadata": {},
   "outputs": [
    {
     "data": {
      "text/html": [
       "<div>\n",
       "<style scoped>\n",
       "    .dataframe tbody tr th:only-of-type {\n",
       "        vertical-align: middle;\n",
       "    }\n",
       "\n",
       "    .dataframe tbody tr th {\n",
       "        vertical-align: top;\n",
       "    }\n",
       "\n",
       "    .dataframe thead th {\n",
       "        text-align: right;\n",
       "    }\n",
       "</style>\n",
       "<table border=\"1\" class=\"dataframe\">\n",
       "  <thead>\n",
       "    <tr style=\"text-align: right;\">\n",
       "      <th></th>\n",
       "      <th>Gender</th>\n",
       "      <th>Age</th>\n",
       "      <th>Education Level</th>\n",
       "      <th>Marital Status</th>\n",
       "      <th>Household Size</th>\n",
       "      <th>Household Income</th>\n",
       "      <th>Time In Current Job</th>\n",
       "      <th>Sleep Hours</th>\n",
       "      <th>Sedentary Time</th>\n",
       "      <th>Vigorous Work</th>\n",
       "      <th>Moderate Work</th>\n",
       "      <th>Depression</th>\n",
       "      <th>Trouble Sleeping</th>\n",
       "      <th>Recreation</th>\n",
       "      <th>Can Work</th>\n",
       "      <th>Heart Problem</th>\n",
       "      <th>Diabetes</th>\n",
       "    </tr>\n",
       "  </thead>\n",
       "  <tbody>\n",
       "    <tr>\n",
       "      <th>0</th>\n",
       "      <td>0</td>\n",
       "      <td>44</td>\n",
       "      <td>College or Degree</td>\n",
       "      <td>Married</td>\n",
       "      <td>4</td>\n",
       "      <td>Above 40k</td>\n",
       "      <td>324.0</td>\n",
       "      <td>9.0</td>\n",
       "      <td>150.0</td>\n",
       "      <td>0</td>\n",
       "      <td>0</td>\n",
       "      <td>0</td>\n",
       "      <td>0</td>\n",
       "      <td>0</td>\n",
       "      <td>1</td>\n",
       "      <td>0</td>\n",
       "      <td>0</td>\n",
       "    </tr>\n",
       "    <tr>\n",
       "      <th>1</th>\n",
       "      <td>1</td>\n",
       "      <td>70</td>\n",
       "      <td>College Graduate or Above</td>\n",
       "      <td>Married</td>\n",
       "      <td>2</td>\n",
       "      <td>Above 40k</td>\n",
       "      <td>96.0</td>\n",
       "      <td>7.0</td>\n",
       "      <td>150.0</td>\n",
       "      <td>0</td>\n",
       "      <td>0</td>\n",
       "      <td>0</td>\n",
       "      <td>0</td>\n",
       "      <td>0</td>\n",
       "      <td>1</td>\n",
       "      <td>0</td>\n",
       "      <td>0</td>\n",
       "    </tr>\n",
       "    <tr>\n",
       "      <th>2</th>\n",
       "      <td>1</td>\n",
       "      <td>73</td>\n",
       "      <td>High School</td>\n",
       "      <td>Married</td>\n",
       "      <td>2</td>\n",
       "      <td>Below 40k</td>\n",
       "      <td>0.0</td>\n",
       "      <td>7.0</td>\n",
       "      <td>90.0</td>\n",
       "      <td>0</td>\n",
       "      <td>1</td>\n",
       "      <td>0</td>\n",
       "      <td>1</td>\n",
       "      <td>0</td>\n",
       "      <td>1</td>\n",
       "      <td>0</td>\n",
       "      <td>0</td>\n",
       "    </tr>\n",
       "    <tr>\n",
       "      <th>5</th>\n",
       "      <td>1</td>\n",
       "      <td>21</td>\n",
       "      <td>High School</td>\n",
       "      <td>Never Married</td>\n",
       "      <td>6</td>\n",
       "      <td>Below 40k</td>\n",
       "      <td>3.0</td>\n",
       "      <td>8.0</td>\n",
       "      <td>180.0</td>\n",
       "      <td>0</td>\n",
       "      <td>0</td>\n",
       "      <td>0</td>\n",
       "      <td>0</td>\n",
       "      <td>1</td>\n",
       "      <td>1</td>\n",
       "      <td>0</td>\n",
       "      <td>0</td>\n",
       "    </tr>\n",
       "    <tr>\n",
       "      <th>6</th>\n",
       "      <td>0</td>\n",
       "      <td>85</td>\n",
       "      <td>9-11th Grade</td>\n",
       "      <td>Widowed</td>\n",
       "      <td>1</td>\n",
       "      <td>Below 40k</td>\n",
       "      <td>0.0</td>\n",
       "      <td>8.0</td>\n",
       "      <td>300.0</td>\n",
       "      <td>0</td>\n",
       "      <td>0</td>\n",
       "      <td>0</td>\n",
       "      <td>0</td>\n",
       "      <td>0</td>\n",
       "      <td>1</td>\n",
       "      <td>0</td>\n",
       "      <td>0</td>\n",
       "    </tr>\n",
       "  </tbody>\n",
       "</table>\n",
       "</div>"
      ],
      "text/plain": [
       "   Gender  Age            Education Level Marital Status  Household Size  \\\n",
       "0       0   44          College or Degree        Married               4   \n",
       "1       1   70  College Graduate or Above        Married               2   \n",
       "2       1   73                High School        Married               2   \n",
       "5       1   21                High School  Never Married               6   \n",
       "6       0   85               9-11th Grade        Widowed               1   \n",
       "\n",
       "  Household Income  Time In Current Job  Sleep Hours  Sedentary Time  \\\n",
       "0        Above 40k                324.0          9.0           150.0   \n",
       "1        Above 40k                 96.0          7.0           150.0   \n",
       "2        Below 40k                  0.0          7.0            90.0   \n",
       "5        Below 40k                  3.0          8.0           180.0   \n",
       "6        Below 40k                  0.0          8.0           300.0   \n",
       "\n",
       "   Vigorous Work  Moderate Work  Depression  Trouble Sleeping  Recreation  \\\n",
       "0              0              0           0                 0           0   \n",
       "1              0              0           0                 0           0   \n",
       "2              0              1           0                 1           0   \n",
       "5              0              0           0                 0           1   \n",
       "6              0              0           0                 0           0   \n",
       "\n",
       "   Can Work  Heart Problem  Diabetes  \n",
       "0         1              0         0  \n",
       "1         1              0         0  \n",
       "2         1              0         0  \n",
       "5         1              0         0  \n",
       "6         1              0         0  "
      ]
     },
     "execution_count": 16,
     "metadata": {},
     "output_type": "execute_result"
    }
   ],
   "source": [
    "data.head()"
   ]
  },
  {
   "cell_type": "code",
   "execution_count": 17,
   "id": "12111a8a",
   "metadata": {},
   "outputs": [],
   "source": [
    "## create dummie collumns to convert categorical columns to numerical set of columns\n",
    "data = pd.get_dummies(data, columns=[\"Education Level\",\"Marital Status\",\"Household Income\"])"
   ]
  },
  {
   "cell_type": "code",
   "execution_count": 18,
   "id": "463e049c",
   "metadata": {},
   "outputs": [
    {
     "name": "stdout",
     "output_type": "stream",
     "text": [
      "<class 'pandas.core.frame.DataFrame'>\n",
      "Int64Index: 32416 entries, 0 to 36258\n",
      "Data columns (total 27 columns):\n",
      " #   Column                                     Non-Null Count  Dtype  \n",
      "---  ------                                     --------------  -----  \n",
      " 0   Gender                                     32416 non-null  int32  \n",
      " 1   Age                                        32416 non-null  int64  \n",
      " 2   Household Size                             32416 non-null  int64  \n",
      " 3   Time In Current Job                        32416 non-null  float64\n",
      " 4   Sleep Hours                                32416 non-null  float64\n",
      " 5   Sedentary Time                             32416 non-null  float64\n",
      " 6   Vigorous Work                              32416 non-null  int64  \n",
      " 7   Moderate Work                              32416 non-null  int64  \n",
      " 8   Depression                                 32416 non-null  int64  \n",
      " 9   Trouble Sleeping                           32416 non-null  int64  \n",
      " 10  Recreation                                 32416 non-null  int64  \n",
      " 11  Can Work                                   32416 non-null  int64  \n",
      " 12  Heart Problem                              32416 non-null  int64  \n",
      " 13  Diabetes                                   32416 non-null  int64  \n",
      " 14  Education Level_9-11th Grade               32416 non-null  uint8  \n",
      " 15  Education Level_College Graduate or Above  32416 non-null  uint8  \n",
      " 16  Education Level_College or Degree          32416 non-null  uint8  \n",
      " 17  Education Level_High School                32416 non-null  uint8  \n",
      " 18  Education Level_Less Than 9th Grade        32416 non-null  uint8  \n",
      " 19  Marital Status_Divorced                    32416 non-null  uint8  \n",
      " 20  Marital Status_Married                     32416 non-null  uint8  \n",
      " 21  Marital Status_Never Married               32416 non-null  uint8  \n",
      " 22  Marital Status_Partner                     32416 non-null  uint8  \n",
      " 23  Marital Status_Separated                   32416 non-null  uint8  \n",
      " 24  Marital Status_Widowed                     32416 non-null  uint8  \n",
      " 25  Household Income_Above 40k                 32416 non-null  uint8  \n",
      " 26  Household Income_Below 40k                 32416 non-null  uint8  \n",
      "dtypes: float64(3), int32(1), int64(10), uint8(13)\n",
      "memory usage: 4.0 MB\n"
     ]
    }
   ],
   "source": [
    "data.info()"
   ]
  },
  {
   "cell_type": "code",
   "execution_count": 19,
   "id": "abded035",
   "metadata": {},
   "outputs": [
    {
     "data": {
      "text/html": [
       "<div>\n",
       "<style scoped>\n",
       "    .dataframe tbody tr th:only-of-type {\n",
       "        vertical-align: middle;\n",
       "    }\n",
       "\n",
       "    .dataframe tbody tr th {\n",
       "        vertical-align: top;\n",
       "    }\n",
       "\n",
       "    .dataframe thead th {\n",
       "        text-align: right;\n",
       "    }\n",
       "</style>\n",
       "<table border=\"1\" class=\"dataframe\">\n",
       "  <thead>\n",
       "    <tr style=\"text-align: right;\">\n",
       "      <th></th>\n",
       "      <th>Gender</th>\n",
       "      <th>Age</th>\n",
       "      <th>Household Size</th>\n",
       "      <th>Time In Current Job</th>\n",
       "      <th>Sleep Hours</th>\n",
       "      <th>Sedentary Time</th>\n",
       "      <th>Vigorous Work</th>\n",
       "      <th>Moderate Work</th>\n",
       "      <th>Depression</th>\n",
       "      <th>Trouble Sleeping</th>\n",
       "      <th>...</th>\n",
       "      <th>Education Level_High School</th>\n",
       "      <th>Education Level_Less Than 9th Grade</th>\n",
       "      <th>Marital Status_Divorced</th>\n",
       "      <th>Marital Status_Married</th>\n",
       "      <th>Marital Status_Never Married</th>\n",
       "      <th>Marital Status_Partner</th>\n",
       "      <th>Marital Status_Separated</th>\n",
       "      <th>Marital Status_Widowed</th>\n",
       "      <th>Household Income_Above 40k</th>\n",
       "      <th>Household Income_Below 40k</th>\n",
       "    </tr>\n",
       "  </thead>\n",
       "  <tbody>\n",
       "    <tr>\n",
       "      <th>0</th>\n",
       "      <td>0</td>\n",
       "      <td>44</td>\n",
       "      <td>4</td>\n",
       "      <td>324.0</td>\n",
       "      <td>9.0</td>\n",
       "      <td>150.0</td>\n",
       "      <td>0</td>\n",
       "      <td>0</td>\n",
       "      <td>0</td>\n",
       "      <td>0</td>\n",
       "      <td>...</td>\n",
       "      <td>0</td>\n",
       "      <td>0</td>\n",
       "      <td>0</td>\n",
       "      <td>1</td>\n",
       "      <td>0</td>\n",
       "      <td>0</td>\n",
       "      <td>0</td>\n",
       "      <td>0</td>\n",
       "      <td>1</td>\n",
       "      <td>0</td>\n",
       "    </tr>\n",
       "    <tr>\n",
       "      <th>1</th>\n",
       "      <td>1</td>\n",
       "      <td>70</td>\n",
       "      <td>2</td>\n",
       "      <td>96.0</td>\n",
       "      <td>7.0</td>\n",
       "      <td>150.0</td>\n",
       "      <td>0</td>\n",
       "      <td>0</td>\n",
       "      <td>0</td>\n",
       "      <td>0</td>\n",
       "      <td>...</td>\n",
       "      <td>0</td>\n",
       "      <td>0</td>\n",
       "      <td>0</td>\n",
       "      <td>1</td>\n",
       "      <td>0</td>\n",
       "      <td>0</td>\n",
       "      <td>0</td>\n",
       "      <td>0</td>\n",
       "      <td>1</td>\n",
       "      <td>0</td>\n",
       "    </tr>\n",
       "    <tr>\n",
       "      <th>2</th>\n",
       "      <td>1</td>\n",
       "      <td>73</td>\n",
       "      <td>2</td>\n",
       "      <td>0.0</td>\n",
       "      <td>7.0</td>\n",
       "      <td>90.0</td>\n",
       "      <td>0</td>\n",
       "      <td>1</td>\n",
       "      <td>0</td>\n",
       "      <td>1</td>\n",
       "      <td>...</td>\n",
       "      <td>1</td>\n",
       "      <td>0</td>\n",
       "      <td>0</td>\n",
       "      <td>1</td>\n",
       "      <td>0</td>\n",
       "      <td>0</td>\n",
       "      <td>0</td>\n",
       "      <td>0</td>\n",
       "      <td>0</td>\n",
       "      <td>1</td>\n",
       "    </tr>\n",
       "    <tr>\n",
       "      <th>5</th>\n",
       "      <td>1</td>\n",
       "      <td>21</td>\n",
       "      <td>6</td>\n",
       "      <td>3.0</td>\n",
       "      <td>8.0</td>\n",
       "      <td>180.0</td>\n",
       "      <td>0</td>\n",
       "      <td>0</td>\n",
       "      <td>0</td>\n",
       "      <td>0</td>\n",
       "      <td>...</td>\n",
       "      <td>1</td>\n",
       "      <td>0</td>\n",
       "      <td>0</td>\n",
       "      <td>0</td>\n",
       "      <td>1</td>\n",
       "      <td>0</td>\n",
       "      <td>0</td>\n",
       "      <td>0</td>\n",
       "      <td>0</td>\n",
       "      <td>1</td>\n",
       "    </tr>\n",
       "    <tr>\n",
       "      <th>6</th>\n",
       "      <td>0</td>\n",
       "      <td>85</td>\n",
       "      <td>1</td>\n",
       "      <td>0.0</td>\n",
       "      <td>8.0</td>\n",
       "      <td>300.0</td>\n",
       "      <td>0</td>\n",
       "      <td>0</td>\n",
       "      <td>0</td>\n",
       "      <td>0</td>\n",
       "      <td>...</td>\n",
       "      <td>0</td>\n",
       "      <td>0</td>\n",
       "      <td>0</td>\n",
       "      <td>0</td>\n",
       "      <td>0</td>\n",
       "      <td>0</td>\n",
       "      <td>0</td>\n",
       "      <td>1</td>\n",
       "      <td>0</td>\n",
       "      <td>1</td>\n",
       "    </tr>\n",
       "  </tbody>\n",
       "</table>\n",
       "<p>5 rows × 27 columns</p>\n",
       "</div>"
      ],
      "text/plain": [
       "   Gender  Age  Household Size  Time In Current Job  Sleep Hours  \\\n",
       "0       0   44               4                324.0          9.0   \n",
       "1       1   70               2                 96.0          7.0   \n",
       "2       1   73               2                  0.0          7.0   \n",
       "5       1   21               6                  3.0          8.0   \n",
       "6       0   85               1                  0.0          8.0   \n",
       "\n",
       "   Sedentary Time  Vigorous Work  Moderate Work  Depression  Trouble Sleeping  \\\n",
       "0           150.0              0              0           0                 0   \n",
       "1           150.0              0              0           0                 0   \n",
       "2            90.0              0              1           0                 1   \n",
       "5           180.0              0              0           0                 0   \n",
       "6           300.0              0              0           0                 0   \n",
       "\n",
       "   ...  Education Level_High School  Education Level_Less Than 9th Grade  \\\n",
       "0  ...                            0                                    0   \n",
       "1  ...                            0                                    0   \n",
       "2  ...                            1                                    0   \n",
       "5  ...                            1                                    0   \n",
       "6  ...                            0                                    0   \n",
       "\n",
       "   Marital Status_Divorced  Marital Status_Married  \\\n",
       "0                        0                       1   \n",
       "1                        0                       1   \n",
       "2                        0                       1   \n",
       "5                        0                       0   \n",
       "6                        0                       0   \n",
       "\n",
       "   Marital Status_Never Married  Marital Status_Partner  \\\n",
       "0                             0                       0   \n",
       "1                             0                       0   \n",
       "2                             0                       0   \n",
       "5                             1                       0   \n",
       "6                             0                       0   \n",
       "\n",
       "   Marital Status_Separated  Marital Status_Widowed  \\\n",
       "0                         0                       0   \n",
       "1                         0                       0   \n",
       "2                         0                       0   \n",
       "5                         0                       0   \n",
       "6                         0                       1   \n",
       "\n",
       "   Household Income_Above 40k  Household Income_Below 40k  \n",
       "0                           1                           0  \n",
       "1                           1                           0  \n",
       "2                           0                           1  \n",
       "5                           0                           1  \n",
       "6                           0                           1  \n",
       "\n",
       "[5 rows x 27 columns]"
      ]
     },
     "execution_count": 19,
     "metadata": {},
     "output_type": "execute_result"
    }
   ],
   "source": [
    "data.head()"
   ]
  },
  {
   "cell_type": "code",
   "execution_count": 20,
   "id": "95dbae24",
   "metadata": {},
   "outputs": [
    {
     "data": {
      "text/plain": [
       "Index(['Gender', 'Age', 'Household Size', 'Time In Current Job', 'Sleep Hours',\n",
       "       'Sedentary Time', 'Vigorous Work', 'Moderate Work', 'Depression',\n",
       "       'Trouble Sleeping', 'Recreation', 'Can Work', 'Heart Problem',\n",
       "       'Diabetes', 'Education Level_9-11th Grade',\n",
       "       'Education Level_College Graduate or Above',\n",
       "       'Education Level_College or Degree', 'Education Level_High School',\n",
       "       'Education Level_Less Than 9th Grade', 'Marital Status_Divorced',\n",
       "       'Marital Status_Married', 'Marital Status_Never Married',\n",
       "       'Marital Status_Partner', 'Marital Status_Separated',\n",
       "       'Marital Status_Widowed', 'Household Income_Above 40k',\n",
       "       'Household Income_Below 40k'],\n",
       "      dtype='object')"
      ]
     },
     "execution_count": 20,
     "metadata": {},
     "output_type": "execute_result"
    }
   ],
   "source": [
    "data.columns"
   ]
  },
  {
   "cell_type": "code",
   "execution_count": 21,
   "id": "fbdb6425",
   "metadata": {},
   "outputs": [],
   "source": [
    "# Divide the data into independent and target variables\n",
    "X = data.drop(\"Depression\", axis=1) # Independent variables\n",
    "y = data[\"Depression\"] # Target variable\n",
    "\n",
    "# Split the data into training and testing sets\n",
    "X_train, X_test, y_train, y_test = train_test_split(X, y, test_size=0.2, random_state=42)\n",
    "\n"
   ]
  },
  {
   "cell_type": "code",
   "execution_count": 22,
   "id": "30287c85",
   "metadata": {},
   "outputs": [
    {
     "data": {
      "text/plain": [
       "RandomForestClassifier()"
      ]
     },
     "execution_count": 22,
     "metadata": {},
     "output_type": "execute_result"
    }
   ],
   "source": [
    "\n",
    "# Train a Random Forest  model\n",
    "rf = RandomForestClassifier()\n",
    "rf.fit(X_train, y_train)\n",
    "\n"
   ]
  },
  {
   "cell_type": "code",
   "execution_count": 23,
   "id": "bd22e20f",
   "metadata": {},
   "outputs": [
    {
     "name": "stdout",
     "output_type": "stream",
     "text": [
      "[0]\n"
     ]
    }
   ],
   "source": [
    "## evaluate the model for smaple data set\n",
    "sample_data = pd.DataFrame([[1, 1, 1, 2, 3, 2, 0, 1, 0, 0, 1, 1, 0,1, 1, 1, 1, 1,1, 0, 1, 0, 0, 1, 1, 0]],\n",
    "                           columns=X.columns)\n",
    "predicted_depression = rf.predict(sample_data)\n",
    "\n",
    "print(predicted_depression)"
   ]
  },
  {
   "cell_type": "code",
   "execution_count": 24,
   "id": "fe87ce2e",
   "metadata": {},
   "outputs": [
    {
     "name": "stdout",
     "output_type": "stream",
     "text": [
      "Accuracy on testing set: 91.41%\n"
     ]
    }
   ],
   "source": [
    "# Evaluate the performance of the model on the testing set\n",
    "score = rf.score(X_test, y_test)\n",
    "print(\"Accuracy on testing set: {:.2f}%\".format(score * 100))"
   ]
  },
  {
   "cell_type": "code",
   "execution_count": 25,
   "id": "d4494718",
   "metadata": {},
   "outputs": [
    {
     "name": "stdout",
     "output_type": "stream",
     "text": [
      "[[5866   59]\n",
      " [ 498   61]]\n"
     ]
    }
   ],
   "source": [
    "from sklearn.metrics import confusion_matrix\n",
    "\n",
    "y_pred = rf.predict(X_test)\n",
    "cm = confusion_matrix(y_test, y_pred)\n",
    "print(cm)"
   ]
  },
  {
   "cell_type": "code",
   "execution_count": 26,
   "id": "7fab0a84",
   "metadata": {},
   "outputs": [
    {
     "data": {
      "image/png": "[encoded data removed]",
      "text/plain": [
       "<Figure size 640x480 with 1 Axes>"
      ]
     },
     "metadata": {},
     "output_type": "display_data"
    }
   ],
   "source": [
    "import seaborn as sns\n",
    "from sklearn.metrics import confusion_matrix\n",
    "import matplotlib.pyplot as plt\n",
    "# Use the SVM model to predict the labels for the testing set\n",
    "y_pred = rf.predict(X_test)\n",
    "\n",
    "# Compute the confusion matrix\n",
    "cm = confusion_matrix(y_test, y_pred)\n",
    "\n",
    "# Plot the confusion matrix as a heatmap using Seaborn\n",
    "sns.heatmap(cm, annot=True, cmap=\"Blues\", fmt=\"d\", cbar=False, annot_kws={\"fontsize\":14})\n",
    "plt.xlabel(\"Predicted label\", fontsize=14)\n",
    "plt.ylabel(\"True label\", fontsize=14)\n",
    "plt.title(\"Confusion Matrix\", fontsize=16)\n",
    "plt.show()\n"
   ]
  },
  {
   "cell_type": "code",
   "execution_count": 27,
   "id": "329806b4",
   "metadata": {},
   "outputs": [
    {
     "name": "stdout",
     "output_type": "stream",
     "text": [
      "              precision    recall  f1-score   support\n",
      "\n",
      "           0       0.92      0.99      0.95      5925\n",
      "           1       0.51      0.11      0.18       559\n",
      "\n",
      "    accuracy                           0.91      6484\n",
      "   macro avg       0.72      0.55      0.57      6484\n",
      "weighted avg       0.89      0.91      0.89      6484\n",
      "\n"
     ]
    }
   ],
   "source": [
    "from sklearn.metrics import classification_report\n",
    "\n",
    "# Make predictions on the testing set\n",
    "y_pred = rf.predict(X_test)\n",
    "\n",
    "# Print the classification report\n",
    "print(classification_report(y_test, y_pred))\n"
   ]
  },
  {
   "cell_type": "code",
   "execution_count": 28,
   "id": "eca3c709",
   "metadata": {},
   "outputs": [
    {
     "data": {
      "text/plain": [
       "0.8861059926007812"
      ]
     },
     "execution_count": 28,
     "metadata": {},
     "output_type": "execute_result"
    }
   ],
   "source": [
    "from sklearn.metrics import precision_score, recall_score, f1_score\n",
    "\n",
    "# y_true and y_pred are the true and predicted labels, respectively\n",
    "precision = precision_score(y_test, y_pred, average='weighted', zero_division=1)\n",
    "recall = recall_score(y_test, y_pred, average='weighted', zero_division=1)\n",
    "f1 = f1_score(y_test, y_pred, average='weighted', zero_division=1)\n",
    "precision"
   ]
  },
  {
   "cell_type": "code",
   "execution_count": 29,
   "id": "70694108",
   "metadata": {},
   "outputs": [
    {
     "data": {
      "text/plain": [
       "0.9140962368908081"
      ]
     },
     "execution_count": 29,
     "metadata": {},
     "output_type": "execute_result"
    }
   ],
   "source": [
    "recall"
   ]
  },
  {
   "cell_type": "code",
   "execution_count": 30,
   "id": "8d5cbf65",
   "metadata": {},
   "outputs": [
    {
     "data": {
      "text/plain": [
       "0.8878605393905054"
      ]
     },
     "execution_count": 30,
     "metadata": {},
     "output_type": "execute_result"
    }
   ],
   "source": [
    "f1"
   ]
  },
  {
   "cell_type": "code",
   "execution_count": null,
   "id": "cd59b256",
   "metadata": {},
   "outputs": [],
   "source": []
  }
 ],
 "metadata": {
  "kernelspec": {
   "display_name": "Python 3 (ipykernel)",
   "language": "python",
   "name": "python3"
  },
  "language_info": {
   "codemirror_mode": {
    "name": "ipython",
    "version": 3
   },
   "file_extension": ".py",
   "mimetype": "text/x-python",
   "name": "python",
   "nbconvert_exporter": "python",
   "pygments_lexer": "ipython3",
   "version": "3.9.13"
  }
 },
 "nbformat": 4,
 "nbformat_minor": 5
}
