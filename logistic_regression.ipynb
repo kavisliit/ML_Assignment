{
 "cells": [
  {
   "cell_type": "code",
   "execution_count": 70,
   "id": "785a5644",
   "metadata": {},
   "outputs": [
    {
     "data": {
      "text/html": [
       "<div>\n",
       "<style scoped>\n",
       "    .dataframe tbody tr th:only-of-type {\n",
       "        vertical-align: middle;\n",
       "    }\n",
       "\n",
       "    .dataframe tbody tr th {\n",
       "        vertical-align: top;\n",
       "    }\n",
       "\n",
       "    .dataframe thead th {\n",
       "        text-align: right;\n",
       "    }\n",
       "</style>\n",
       "<table border=\"1\" class=\"dataframe\">\n",
       "  <thead>\n",
       "    <tr style=\"text-align: right;\">\n",
       "      <th></th>\n",
       "      <th>Gender</th>\n",
       "      <th>Age</th>\n",
       "      <th>Education Level</th>\n",
       "      <th>Marital Status</th>\n",
       "      <th>Household Size</th>\n",
       "      <th>Household Income</th>\n",
       "      <th>Full Time Work</th>\n",
       "      <th>Work Type</th>\n",
       "      <th>Time In Current Job</th>\n",
       "      <th>Out Of Work</th>\n",
       "      <th>...</th>\n",
       "      <th>Sedentary Time</th>\n",
       "      <th>Vigorous Work</th>\n",
       "      <th>Moderate Work</th>\n",
       "      <th>Cant Work</th>\n",
       "      <th>Lifetime Alcohol Consumption</th>\n",
       "      <th>Pregnant</th>\n",
       "      <th>Health Problem Heart</th>\n",
       "      <th>Health Problem Diabetes</th>\n",
       "      <th>Current Smoker</th>\n",
       "      <th>Depression</th>\n",
       "    </tr>\n",
       "  </thead>\n",
       "  <tbody>\n",
       "    <tr>\n",
       "      <th>0</th>\n",
       "      <td>0</td>\n",
       "      <td>44</td>\n",
       "      <td>Some College or AA Degree</td>\n",
       "      <td>Married</td>\n",
       "      <td>4</td>\n",
       "      <td>$75K+</td>\n",
       "      <td>&lt;NA&gt;</td>\n",
       "      <td>Private Wage Worker</td>\n",
       "      <td>324.0</td>\n",
       "      <td>&lt;NA&gt;</td>\n",
       "      <td>...</td>\n",
       "      <td>150.0</td>\n",
       "      <td>No</td>\n",
       "      <td>No</td>\n",
       "      <td>No</td>\n",
       "      <td>Yes</td>\n",
       "      <td>No</td>\n",
       "      <td>No</td>\n",
       "      <td>No</td>\n",
       "      <td>&lt;NA&gt;</td>\n",
       "      <td>0</td>\n",
       "    </tr>\n",
       "    <tr>\n",
       "      <th>1</th>\n",
       "      <td>1</td>\n",
       "      <td>70</td>\n",
       "      <td>College Graduate or Above</td>\n",
       "      <td>Married</td>\n",
       "      <td>2</td>\n",
       "      <td>$75K+</td>\n",
       "      <td>No</td>\n",
       "      <td>Private Wage Worker</td>\n",
       "      <td>96.0</td>\n",
       "      <td>&lt;NA&gt;</td>\n",
       "      <td>...</td>\n",
       "      <td>150.0</td>\n",
       "      <td>No</td>\n",
       "      <td>No</td>\n",
       "      <td>No</td>\n",
       "      <td>&lt;NA&gt;</td>\n",
       "      <td>&lt;NA&gt;</td>\n",
       "      <td>No</td>\n",
       "      <td>No</td>\n",
       "      <td>&lt;NA&gt;</td>\n",
       "      <td>0</td>\n",
       "    </tr>\n",
       "  </tbody>\n",
       "</table>\n",
       "<p>2 rows × 23 columns</p>\n",
       "</div>"
      ],
      "text/plain": [
       "   Gender  Age            Education Level Marital Status  Household Size  \\\n",
       "0       0   44  Some College or AA Degree        Married               4   \n",
       "1       1   70  College Graduate or Above        Married               2   \n",
       "\n",
       "  Household Income Full Time Work            Work Type  Time In Current Job  \\\n",
       "0            $75K+           <NA>  Private Wage Worker                324.0   \n",
       "1            $75K+             No  Private Wage Worker                 96.0   \n",
       "\n",
       "  Out Of Work  ... Sedentary Time  Vigorous Work Moderate Work  Cant Work  \\\n",
       "0        <NA>  ...          150.0             No            No         No   \n",
       "1        <NA>  ...          150.0             No            No         No   \n",
       "\n",
       "  Lifetime Alcohol Consumption Pregnant Health Problem Heart  \\\n",
       "0                          Yes       No                   No   \n",
       "1                         <NA>     <NA>                   No   \n",
       "\n",
       "  Health Problem Diabetes Current Smoker Depression  \n",
       "0                      No           <NA>          0  \n",
       "1                      No           <NA>          0  \n",
       "\n",
       "[2 rows x 23 columns]"
      ]
     },
     "execution_count": 70,
     "metadata": {},
     "output_type": "execute_result"
    }
   ],
   "source": [
    "# Import required librareis\n",
    "import pandas as pd\n",
    "import numpy as np\n",
    "from sklearn.preprocessing import LabelEncoder\n",
    "from sklearn.impute import SimpleImputer\n",
    "from sklearn.preprocessing import StandardScaler\n",
    "from sklearn.feature_selection import SelectKBest\n",
    "from sklearn.feature_selection import chi2\n",
    "from sklearn.model_selection import train_test_split\n",
    "from sklearn.linear_model import LogisticRegression\n",
    "from sklearn.metrics import classification_report\n",
    "from sklearn.model_selection import GridSearchCV\n",
    "\n",
    "# Load the data\n",
    "data = pd.read_csv('depression.csv')\n",
    "\n",
    "########## Data Preproccesing ########################\n",
    "\n",
    "# Extract the columns that suitable for model training\n",
    "data = data[[\"Gender\",\"Age\",\"Education Level\",\"Marital Status\",\"Household Size\",\"Household Income\",\"Full Time Work\",\"Work Type\",\"Time In Current Job\",\"Out Of Work\",\"Trouble Sleeping History\",\"Sleep Hours\",\"Vigorous Recreation\",\"Sedentary Time\",\"Vigorous Work\",\"Moderate Work\",\"Cant Work\",\"Lifetime Alcohol Consumption\",\"Pregnant\",\"Health Problem Heart\",\"Health Problem Diabetes\",\"Current Smoker\",\"Depression\"]]\n",
    "\n",
    "# Replace \"missing\" with NaN in the entire dataframe\n",
    "data = data.apply(lambda x: x.str.strip().replace('Missing', pd.NA) if x.dtype == \"object\" else x)\n",
    "\n",
    "######### Encoding categorical values to numerical #############\n",
    "\n",
    "encoder = LabelEncoder()\n",
    "## encode the Gender column\n",
    "data['Gender'] = encoder.fit_transform(data['Gender'])\n",
    "\n",
    "## encode the Depression column\n",
    "data[\"Depression\"] = data[\"Depression\"].replace({\"Not Depressed\": 0, \"Depressed\": 1})\n",
    "\n",
    "data.head(2)"
   ]
  },
  {
   "cell_type": "code",
   "execution_count": 41,
   "id": "fa7cd2db",
   "metadata": {},
   "outputs": [
    {
     "data": {
      "text/plain": [
       "(36259, 23)"
      ]
     },
     "execution_count": 41,
     "metadata": {},
     "output_type": "execute_result"
    }
   ],
   "source": [
    "data.shape                                                          "
   ]
  },
  {
   "cell_type": "code",
   "execution_count": 42,
   "id": "6b23e149",
   "metadata": {},
   "outputs": [
    {
     "data": {
      "text/plain": [
       "Gender                              0\n",
       "Age                                 0\n",
       "Education Level                  2157\n",
       "Marital Status                   1636\n",
       "Household Size                      0\n",
       "Household Income                 1813\n",
       "Full Time Work                  30492\n",
       "Work Type                       16284\n",
       "Time In Current Job                 0\n",
       "Out Of Work                     21461\n",
       "Trouble Sleeping History            0\n",
       "Sleep Hours                         0\n",
       "Vigorous Recreation                 3\n",
       "Sedentary Time                      0\n",
       "Vigorous Work                       0\n",
       "Moderate Work                       0\n",
       "Cant Work                           0\n",
       "Lifetime Alcohol Consumption    22323\n",
       "Pregnant                        28366\n",
       "Health Problem Heart                0\n",
       "Health Problem Diabetes             0\n",
       "Current Smoker                  20789\n",
       "Depression                          0\n",
       "dtype: int64"
      ]
     },
     "execution_count": 42,
     "metadata": {},
     "output_type": "execute_result"
    }
   ],
   "source": [
    "# view the null values in each column\n",
    "data.isnull().sum()"
   ]
  },
  {
   "cell_type": "code",
   "execution_count": 72,
   "id": "54ded2f9",
   "metadata": {},
   "outputs": [],
   "source": [
    "# Drop the columns that have more than 10000 null values\n",
    "data = data.dropna(axis=1, thresh=len(data)-10000)\n",
    "\n",
    "# Drop the rows that contain any null value\n",
    "data = data.dropna(axis=0)"
   ]
  },
  {
   "cell_type": "code",
   "execution_count": 73,
   "id": "1ecfb33b",
   "metadata": {},
   "outputs": [
    {
     "data": {
      "text/plain": [
       "Gender                      0\n",
       "Age                         0\n",
       "Education Level             0\n",
       "Marital Status              0\n",
       "Household Size              0\n",
       "Household Income            0\n",
       "Time In Current Job         0\n",
       "Trouble Sleeping History    0\n",
       "Sleep Hours                 0\n",
       "Vigorous Recreation         0\n",
       "Sedentary Time              0\n",
       "Vigorous Work               0\n",
       "Moderate Work               0\n",
       "Cant Work                   0\n",
       "Health Problem Heart        0\n",
       "Health Problem Diabetes     0\n",
       "Depression                  0\n",
       "dtype: int64"
      ]
     },
     "execution_count": 73,
     "metadata": {},
     "output_type": "execute_result"
    }
   ],
   "source": [
    "data.isnull().sum()"
   ]
  },
  {
   "cell_type": "code",
   "execution_count": 45,
   "id": "4c53255a",
   "metadata": {},
   "outputs": [
    {
     "data": {
      "text/plain": [
       "0    29578\n",
       "1     2838\n",
       "Name: Depression, dtype: int64"
      ]
     },
     "execution_count": 45,
     "metadata": {},
     "output_type": "execute_result"
    }
   ],
   "source": [
    "data[\"Depression\"].value_counts()"
   ]
  },
  {
   "cell_type": "code",
   "execution_count": 46,
   "id": "1068f265",
   "metadata": {},
   "outputs": [
    {
     "data": {
      "text/plain": [
       "College or Degree            9715\n",
       "College Graduate or Above    7528\n",
       "High School                  7517\n",
       "9-11th Grade                 4541\n",
       "Less Than 9th Grade          3115\n",
       "Name: Education Level, dtype: int64"
      ]
     },
     "execution_count": 46,
     "metadata": {},
     "output_type": "execute_result"
    }
   ],
   "source": [
    "\n",
    "# Replace the \"Some College or AA Degree\" category with \"College\"\n",
    "data[\"Education Level\"] = data[\"Education Level\"].replace(\"Some College or AA Degree\", \"College or Degree\")\n",
    "\n",
    "# view available categories in Education Level column \n",
    "data[\"Education Level\"].value_counts()"
   ]
  },
  {
   "cell_type": "code",
   "execution_count": 47,
   "id": "32807b93",
   "metadata": {},
   "outputs": [
    {
     "data": {
      "text/plain": [
       "Married          16781\n",
       "Never Married     5765\n",
       "Divorced          3619\n",
       "Partner           2643\n",
       "Widowed           2528\n",
       "Separated         1080\n",
       "Name: Marital Status, dtype: int64"
      ]
     },
     "execution_count": 47,
     "metadata": {},
     "output_type": "execute_result"
    }
   ],
   "source": [
    "# view available categories in Marital Status column \n",
    "data[\"Marital Status\"].value_counts()"
   ]
  },
  {
   "cell_type": "code",
   "execution_count": 48,
   "id": "6ecd8b11",
   "metadata": {},
   "outputs": [
    {
     "data": {
      "text/plain": [
       "Above 40k    17916\n",
       "Below 40k    14500\n",
       "Name: Household Income, dtype: int64"
      ]
     },
     "execution_count": 48,
     "metadata": {},
     "output_type": "execute_result"
    }
   ],
   "source": [
    "\n",
    "# Define a custom function to categorize income\n",
    "def categorize_income(income):\n",
    "    if income in [\"Below $5K\", \"Below $10K\", \"Below $15K\", \"Below $20K\", \"Below $25K\", \"Below $35K\"]:\n",
    "        return \"Below 40k\"\n",
    "    else:\n",
    "        return \"Above 40k\"\n",
    "\n",
    "# Apply the custom function to the \"Household Income\" variable\n",
    "data[\"Household Income\"] = data[\"Household Income\"].apply(categorize_income)\n",
    "\n",
    "# view available categories in Household Income column \n",
    "data[\"Household Income\"].value_counts()"
   ]
  },
  {
   "cell_type": "code",
   "execution_count": 49,
   "id": "992a6a23",
   "metadata": {},
   "outputs": [],
   "source": [
    "## encode the Trouble Sleeping column\n",
    "data[\"Trouble Sleeping\"] = data[\"Trouble Sleeping History\"].replace({\"Yes\": 1, \"No\": 0})\n"
   ]
  },
  {
   "cell_type": "code",
   "execution_count": 50,
   "id": "679d7d65",
   "metadata": {},
   "outputs": [],
   "source": [
    "## encode the Vigorous Recreation column and set to a new colum called Recreation\n",
    "data[\"Recreation\"] = data[\"Vigorous Recreation\"].replace({\"Yes\": 1, \"No\": 0})\n"
   ]
  },
  {
   "cell_type": "code",
   "execution_count": 51,
   "id": "946241a6",
   "metadata": {},
   "outputs": [],
   "source": [
    "## encode the Vigorous Work column\n",
    "data[\"Vigorous Work\"] = data[\"Vigorous Work\"].replace({\"Yes\": 1, \"No\": 0})"
   ]
  },
  {
   "cell_type": "code",
   "execution_count": 52,
   "id": "208666d2",
   "metadata": {},
   "outputs": [],
   "source": [
    "## encode the Moderate Work column\n",
    "data[\"Moderate Work\"] = data[\"Moderate Work\"].replace({\"Yes\": 1, \"No\": 0})"
   ]
  },
  {
   "cell_type": "code",
   "execution_count": 53,
   "id": "9f029ea4",
   "metadata": {},
   "outputs": [],
   "source": [
    "## encode the Cant Work column and set to a new colum called Can Work\n",
    "data[\"Can Work\"] = data[\"Cant Work\"].replace({\"Yes\": 0, \"No\": 1})"
   ]
  },
  {
   "cell_type": "code",
   "execution_count": 54,
   "id": "ddb8f7bb",
   "metadata": {},
   "outputs": [],
   "source": [
    "## encode the Health Problem Heart column and set to a new colum called Heart Problem\n",
    "data[\"Heart Problem\"] = data[\"Health Problem Heart\"].replace({\"Yes\": 1, \"No\": 0})\n",
    "\n",
    "## encode the Health Problem Diabetes column and set to a new colum called Diabetes\n",
    "data[\"Diabetes\"] = data[\"Health Problem Diabetes\"].replace({\"Yes\": 1, \"No\": 0})\n",
    "\n",
    "## specify the columns that need to droped because we assigned the content to new columns\n",
    "columns_to_drop = [\"Trouble Sleeping History\", \"Vigorous Recreation\", \"Cant Work\",\"Health Problem Diabetes\",\"Health Problem Heart\"]\n",
    "\n",
    "# Use the drop() method to drop the columns\n",
    "data = data.drop(columns_to_drop, axis=1)"
   ]
  },
  {
   "cell_type": "code",
   "execution_count": 55,
   "id": "fc1eb819",
   "metadata": {},
   "outputs": [
    {
     "data": {
      "text/html": [
       "<div>\n",
       "<style scoped>\n",
       "    .dataframe tbody tr th:only-of-type {\n",
       "        vertical-align: middle;\n",
       "    }\n",
       "\n",
       "    .dataframe tbody tr th {\n",
       "        vertical-align: top;\n",
       "    }\n",
       "\n",
       "    .dataframe thead th {\n",
       "        text-align: right;\n",
       "    }\n",
       "</style>\n",
       "<table border=\"1\" class=\"dataframe\">\n",
       "  <thead>\n",
       "    <tr style=\"text-align: right;\">\n",
       "      <th></th>\n",
       "      <th>Gender</th>\n",
       "      <th>Age</th>\n",
       "      <th>Education Level</th>\n",
       "      <th>Marital Status</th>\n",
       "      <th>Household Size</th>\n",
       "      <th>Household Income</th>\n",
       "      <th>Time In Current Job</th>\n",
       "      <th>Sleep Hours</th>\n",
       "      <th>Sedentary Time</th>\n",
       "      <th>Vigorous Work</th>\n",
       "      <th>Moderate Work</th>\n",
       "      <th>Depression</th>\n",
       "      <th>Trouble Sleeping</th>\n",
       "      <th>Recreation</th>\n",
       "      <th>Can Work</th>\n",
       "      <th>Heart Problem</th>\n",
       "      <th>Diabetes</th>\n",
       "    </tr>\n",
       "  </thead>\n",
       "  <tbody>\n",
       "    <tr>\n",
       "      <th>0</th>\n",
       "      <td>0</td>\n",
       "      <td>44</td>\n",
       "      <td>College or Degree</td>\n",
       "      <td>Married</td>\n",
       "      <td>4</td>\n",
       "      <td>Above 40k</td>\n",
       "      <td>324.0</td>\n",
       "      <td>9.0</td>\n",
       "      <td>150.0</td>\n",
       "      <td>0</td>\n",
       "      <td>0</td>\n",
       "      <td>0</td>\n",
       "      <td>0</td>\n",
       "      <td>0</td>\n",
       "      <td>1</td>\n",
       "      <td>0</td>\n",
       "      <td>0</td>\n",
       "    </tr>\n",
       "    <tr>\n",
       "      <th>1</th>\n",
       "      <td>1</td>\n",
       "      <td>70</td>\n",
       "      <td>College Graduate or Above</td>\n",
       "      <td>Married</td>\n",
       "      <td>2</td>\n",
       "      <td>Above 40k</td>\n",
       "      <td>96.0</td>\n",
       "      <td>7.0</td>\n",
       "      <td>150.0</td>\n",
       "      <td>0</td>\n",
       "      <td>0</td>\n",
       "      <td>0</td>\n",
       "      <td>0</td>\n",
       "      <td>0</td>\n",
       "      <td>1</td>\n",
       "      <td>0</td>\n",
       "      <td>0</td>\n",
       "    </tr>\n",
       "    <tr>\n",
       "      <th>2</th>\n",
       "      <td>1</td>\n",
       "      <td>73</td>\n",
       "      <td>High School</td>\n",
       "      <td>Married</td>\n",
       "      <td>2</td>\n",
       "      <td>Below 40k</td>\n",
       "      <td>0.0</td>\n",
       "      <td>7.0</td>\n",
       "      <td>90.0</td>\n",
       "      <td>0</td>\n",
       "      <td>1</td>\n",
       "      <td>0</td>\n",
       "      <td>1</td>\n",
       "      <td>0</td>\n",
       "      <td>1</td>\n",
       "      <td>0</td>\n",
       "      <td>0</td>\n",
       "    </tr>\n",
       "    <tr>\n",
       "      <th>5</th>\n",
       "      <td>1</td>\n",
       "      <td>21</td>\n",
       "      <td>High School</td>\n",
       "      <td>Never Married</td>\n",
       "      <td>6</td>\n",
       "      <td>Below 40k</td>\n",
       "      <td>3.0</td>\n",
       "      <td>8.0</td>\n",
       "      <td>180.0</td>\n",
       "      <td>0</td>\n",
       "      <td>0</td>\n",
       "      <td>0</td>\n",
       "      <td>0</td>\n",
       "      <td>1</td>\n",
       "      <td>1</td>\n",
       "      <td>0</td>\n",
       "      <td>0</td>\n",
       "    </tr>\n",
       "    <tr>\n",
       "      <th>6</th>\n",
       "      <td>0</td>\n",
       "      <td>85</td>\n",
       "      <td>9-11th Grade</td>\n",
       "      <td>Widowed</td>\n",
       "      <td>1</td>\n",
       "      <td>Below 40k</td>\n",
       "      <td>0.0</td>\n",
       "      <td>8.0</td>\n",
       "      <td>300.0</td>\n",
       "      <td>0</td>\n",
       "      <td>0</td>\n",
       "      <td>0</td>\n",
       "      <td>0</td>\n",
       "      <td>0</td>\n",
       "      <td>1</td>\n",
       "      <td>0</td>\n",
       "      <td>0</td>\n",
       "    </tr>\n",
       "  </tbody>\n",
       "</table>\n",
       "</div>"
      ],
      "text/plain": [
       "   Gender  Age            Education Level Marital Status  Household Size  \\\n",
       "0       0   44          College or Degree        Married               4   \n",
       "1       1   70  College Graduate or Above        Married               2   \n",
       "2       1   73                High School        Married               2   \n",
       "5       1   21                High School  Never Married               6   \n",
       "6       0   85               9-11th Grade        Widowed               1   \n",
       "\n",
       "  Household Income  Time In Current Job  Sleep Hours  Sedentary Time  \\\n",
       "0        Above 40k                324.0          9.0           150.0   \n",
       "1        Above 40k                 96.0          7.0           150.0   \n",
       "2        Below 40k                  0.0          7.0            90.0   \n",
       "5        Below 40k                  3.0          8.0           180.0   \n",
       "6        Below 40k                  0.0          8.0           300.0   \n",
       "\n",
       "   Vigorous Work  Moderate Work  Depression  Trouble Sleeping  Recreation  \\\n",
       "0              0              0           0                 0           0   \n",
       "1              0              0           0                 0           0   \n",
       "2              0              1           0                 1           0   \n",
       "5              0              0           0                 0           1   \n",
       "6              0              0           0                 0           0   \n",
       "\n",
       "   Can Work  Heart Problem  Diabetes  \n",
       "0         1              0         0  \n",
       "1         1              0         0  \n",
       "2         1              0         0  \n",
       "5         1              0         0  \n",
       "6         1              0         0  "
      ]
     },
     "execution_count": 55,
     "metadata": {},
     "output_type": "execute_result"
    }
   ],
   "source": [
    "data.head()"
   ]
  },
  {
   "cell_type": "code",
   "execution_count": 56,
   "id": "120d5a58",
   "metadata": {},
   "outputs": [],
   "source": [
    "## create dummie collumns to convert categorical columns to numerical set of columns\n",
    "data = pd.get_dummies(data, columns=[\"Education Level\",\"Marital Status\",\"Household Income\"])"
   ]
  },
  {
   "cell_type": "code",
   "execution_count": 57,
   "id": "6c8096df",
   "metadata": {},
   "outputs": [
    {
     "name": "stdout",
     "output_type": "stream",
     "text": [
      "<class 'pandas.core.frame.DataFrame'>\n",
      "Int64Index: 32416 entries, 0 to 36258\n",
      "Data columns (total 27 columns):\n",
      " #   Column                                     Non-Null Count  Dtype  \n",
      "---  ------                                     --------------  -----  \n",
      " 0   Gender                                     32416 non-null  int32  \n",
      " 1   Age                                        32416 non-null  int64  \n",
      " 2   Household Size                             32416 non-null  int64  \n",
      " 3   Time In Current Job                        32416 non-null  float64\n",
      " 4   Sleep Hours                                32416 non-null  float64\n",
      " 5   Sedentary Time                             32416 non-null  float64\n",
      " 6   Vigorous Work                              32416 non-null  int64  \n",
      " 7   Moderate Work                              32416 non-null  int64  \n",
      " 8   Depression                                 32416 non-null  int64  \n",
      " 9   Trouble Sleeping                           32416 non-null  int64  \n",
      " 10  Recreation                                 32416 non-null  int64  \n",
      " 11  Can Work                                   32416 non-null  int64  \n",
      " 12  Heart Problem                              32416 non-null  int64  \n",
      " 13  Diabetes                                   32416 non-null  int64  \n",
      " 14  Education Level_9-11th Grade               32416 non-null  uint8  \n",
      " 15  Education Level_College Graduate or Above  32416 non-null  uint8  \n",
      " 16  Education Level_College or Degree          32416 non-null  uint8  \n",
      " 17  Education Level_High School                32416 non-null  uint8  \n",
      " 18  Education Level_Less Than 9th Grade        32416 non-null  uint8  \n",
      " 19  Marital Status_Divorced                    32416 non-null  uint8  \n",
      " 20  Marital Status_Married                     32416 non-null  uint8  \n",
      " 21  Marital Status_Never Married               32416 non-null  uint8  \n",
      " 22  Marital Status_Partner                     32416 non-null  uint8  \n",
      " 23  Marital Status_Separated                   32416 non-null  uint8  \n",
      " 24  Marital Status_Widowed                     32416 non-null  uint8  \n",
      " 25  Household Income_Above 40k                 32416 non-null  uint8  \n",
      " 26  Household Income_Below 40k                 32416 non-null  uint8  \n",
      "dtypes: float64(3), int32(1), int64(10), uint8(13)\n",
      "memory usage: 4.0 MB\n"
     ]
    }
   ],
   "source": [
    "data.info()"
   ]
  },
  {
   "cell_type": "code",
   "execution_count": 58,
   "id": "556978e8",
   "metadata": {},
   "outputs": [
    {
     "data": {
      "text/html": [
       "<div>\n",
       "<style scoped>\n",
       "    .dataframe tbody tr th:only-of-type {\n",
       "        vertical-align: middle;\n",
       "    }\n",
       "\n",
       "    .dataframe tbody tr th {\n",
       "        vertical-align: top;\n",
       "    }\n",
       "\n",
       "    .dataframe thead th {\n",
       "        text-align: right;\n",
       "    }\n",
       "</style>\n",
       "<table border=\"1\" class=\"dataframe\">\n",
       "  <thead>\n",
       "    <tr style=\"text-align: right;\">\n",
       "      <th></th>\n",
       "      <th>Gender</th>\n",
       "      <th>Age</th>\n",
       "      <th>Household Size</th>\n",
       "      <th>Time In Current Job</th>\n",
       "      <th>Sleep Hours</th>\n",
       "      <th>Sedentary Time</th>\n",
       "      <th>Vigorous Work</th>\n",
       "      <th>Moderate Work</th>\n",
       "      <th>Depression</th>\n",
       "      <th>Trouble Sleeping</th>\n",
       "      <th>...</th>\n",
       "      <th>Education Level_High School</th>\n",
       "      <th>Education Level_Less Than 9th Grade</th>\n",
       "      <th>Marital Status_Divorced</th>\n",
       "      <th>Marital Status_Married</th>\n",
       "      <th>Marital Status_Never Married</th>\n",
       "      <th>Marital Status_Partner</th>\n",
       "      <th>Marital Status_Separated</th>\n",
       "      <th>Marital Status_Widowed</th>\n",
       "      <th>Household Income_Above 40k</th>\n",
       "      <th>Household Income_Below 40k</th>\n",
       "    </tr>\n",
       "  </thead>\n",
       "  <tbody>\n",
       "    <tr>\n",
       "      <th>0</th>\n",
       "      <td>0</td>\n",
       "      <td>44</td>\n",
       "      <td>4</td>\n",
       "      <td>324.0</td>\n",
       "      <td>9.0</td>\n",
       "      <td>150.0</td>\n",
       "      <td>0</td>\n",
       "      <td>0</td>\n",
       "      <td>0</td>\n",
       "      <td>0</td>\n",
       "      <td>...</td>\n",
       "      <td>0</td>\n",
       "      <td>0</td>\n",
       "      <td>0</td>\n",
       "      <td>1</td>\n",
       "      <td>0</td>\n",
       "      <td>0</td>\n",
       "      <td>0</td>\n",
       "      <td>0</td>\n",
       "      <td>1</td>\n",
       "      <td>0</td>\n",
       "    </tr>\n",
       "    <tr>\n",
       "      <th>1</th>\n",
       "      <td>1</td>\n",
       "      <td>70</td>\n",
       "      <td>2</td>\n",
       "      <td>96.0</td>\n",
       "      <td>7.0</td>\n",
       "      <td>150.0</td>\n",
       "      <td>0</td>\n",
       "      <td>0</td>\n",
       "      <td>0</td>\n",
       "      <td>0</td>\n",
       "      <td>...</td>\n",
       "      <td>0</td>\n",
       "      <td>0</td>\n",
       "      <td>0</td>\n",
       "      <td>1</td>\n",
       "      <td>0</td>\n",
       "      <td>0</td>\n",
       "      <td>0</td>\n",
       "      <td>0</td>\n",
       "      <td>1</td>\n",
       "      <td>0</td>\n",
       "    </tr>\n",
       "    <tr>\n",
       "      <th>2</th>\n",
       "      <td>1</td>\n",
       "      <td>73</td>\n",
       "      <td>2</td>\n",
       "      <td>0.0</td>\n",
       "      <td>7.0</td>\n",
       "      <td>90.0</td>\n",
       "      <td>0</td>\n",
       "      <td>1</td>\n",
       "      <td>0</td>\n",
       "      <td>1</td>\n",
       "      <td>...</td>\n",
       "      <td>1</td>\n",
       "      <td>0</td>\n",
       "      <td>0</td>\n",
       "      <td>1</td>\n",
       "      <td>0</td>\n",
       "      <td>0</td>\n",
       "      <td>0</td>\n",
       "      <td>0</td>\n",
       "      <td>0</td>\n",
       "      <td>1</td>\n",
       "    </tr>\n",
       "    <tr>\n",
       "      <th>5</th>\n",
       "      <td>1</td>\n",
       "      <td>21</td>\n",
       "      <td>6</td>\n",
       "      <td>3.0</td>\n",
       "      <td>8.0</td>\n",
       "      <td>180.0</td>\n",
       "      <td>0</td>\n",
       "      <td>0</td>\n",
       "      <td>0</td>\n",
       "      <td>0</td>\n",
       "      <td>...</td>\n",
       "      <td>1</td>\n",
       "      <td>0</td>\n",
       "      <td>0</td>\n",
       "      <td>0</td>\n",
       "      <td>1</td>\n",
       "      <td>0</td>\n",
       "      <td>0</td>\n",
       "      <td>0</td>\n",
       "      <td>0</td>\n",
       "      <td>1</td>\n",
       "    </tr>\n",
       "    <tr>\n",
       "      <th>6</th>\n",
       "      <td>0</td>\n",
       "      <td>85</td>\n",
       "      <td>1</td>\n",
       "      <td>0.0</td>\n",
       "      <td>8.0</td>\n",
       "      <td>300.0</td>\n",
       "      <td>0</td>\n",
       "      <td>0</td>\n",
       "      <td>0</td>\n",
       "      <td>0</td>\n",
       "      <td>...</td>\n",
       "      <td>0</td>\n",
       "      <td>0</td>\n",
       "      <td>0</td>\n",
       "      <td>0</td>\n",
       "      <td>0</td>\n",
       "      <td>0</td>\n",
       "      <td>0</td>\n",
       "      <td>1</td>\n",
       "      <td>0</td>\n",
       "      <td>1</td>\n",
       "    </tr>\n",
       "  </tbody>\n",
       "</table>\n",
       "<p>5 rows × 27 columns</p>\n",
       "</div>"
      ],
      "text/plain": [
       "   Gender  Age  Household Size  Time In Current Job  Sleep Hours  \\\n",
       "0       0   44               4                324.0          9.0   \n",
       "1       1   70               2                 96.0          7.0   \n",
       "2       1   73               2                  0.0          7.0   \n",
       "5       1   21               6                  3.0          8.0   \n",
       "6       0   85               1                  0.0          8.0   \n",
       "\n",
       "   Sedentary Time  Vigorous Work  Moderate Work  Depression  Trouble Sleeping  \\\n",
       "0           150.0              0              0           0                 0   \n",
       "1           150.0              0              0           0                 0   \n",
       "2            90.0              0              1           0                 1   \n",
       "5           180.0              0              0           0                 0   \n",
       "6           300.0              0              0           0                 0   \n",
       "\n",
       "   ...  Education Level_High School  Education Level_Less Than 9th Grade  \\\n",
       "0  ...                            0                                    0   \n",
       "1  ...                            0                                    0   \n",
       "2  ...                            1                                    0   \n",
       "5  ...                            1                                    0   \n",
       "6  ...                            0                                    0   \n",
       "\n",
       "   Marital Status_Divorced  Marital Status_Married  \\\n",
       "0                        0                       1   \n",
       "1                        0                       1   \n",
       "2                        0                       1   \n",
       "5                        0                       0   \n",
       "6                        0                       0   \n",
       "\n",
       "   Marital Status_Never Married  Marital Status_Partner  \\\n",
       "0                             0                       0   \n",
       "1                             0                       0   \n",
       "2                             0                       0   \n",
       "5                             1                       0   \n",
       "6                             0                       0   \n",
       "\n",
       "   Marital Status_Separated  Marital Status_Widowed  \\\n",
       "0                         0                       0   \n",
       "1                         0                       0   \n",
       "2                         0                       0   \n",
       "5                         0                       0   \n",
       "6                         0                       1   \n",
       "\n",
       "   Household Income_Above 40k  Household Income_Below 40k  \n",
       "0                           1                           0  \n",
       "1                           1                           0  \n",
       "2                           0                           1  \n",
       "5                           0                           1  \n",
       "6                           0                           1  \n",
       "\n",
       "[5 rows x 27 columns]"
      ]
     },
     "execution_count": 58,
     "metadata": {},
     "output_type": "execute_result"
    }
   ],
   "source": [
    "data.head()"
   ]
  },
  {
   "cell_type": "code",
   "execution_count": 59,
   "id": "8fd7ae3d",
   "metadata": {},
   "outputs": [
    {
     "data": {
      "text/plain": [
       "Index(['Gender', 'Age', 'Household Size', 'Time In Current Job', 'Sleep Hours',\n",
       "       'Sedentary Time', 'Vigorous Work', 'Moderate Work', 'Depression',\n",
       "       'Trouble Sleeping', 'Recreation', 'Can Work', 'Heart Problem',\n",
       "       'Diabetes', 'Education Level_9-11th Grade',\n",
       "       'Education Level_College Graduate or Above',\n",
       "       'Education Level_College or Degree', 'Education Level_High School',\n",
       "       'Education Level_Less Than 9th Grade', 'Marital Status_Divorced',\n",
       "       'Marital Status_Married', 'Marital Status_Never Married',\n",
       "       'Marital Status_Partner', 'Marital Status_Separated',\n",
       "       'Marital Status_Widowed', 'Household Income_Above 40k',\n",
       "       'Household Income_Below 40k'],\n",
       "      dtype='object')"
      ]
     },
     "execution_count": 59,
     "metadata": {},
     "output_type": "execute_result"
    }
   ],
   "source": [
    "data.columns"
   ]
  },
  {
   "cell_type": "code",
   "execution_count": 60,
   "id": "6ebb96c4",
   "metadata": {},
   "outputs": [
    {
     "name": "stdout",
     "output_type": "stream",
     "text": [
      "<class 'pandas.core.frame.DataFrame'>\n",
      "Int64Index: 6484 entries, 22722 to 25735\n",
      "Data columns (total 26 columns):\n",
      " #   Column                                     Non-Null Count  Dtype  \n",
      "---  ------                                     --------------  -----  \n",
      " 0   Gender                                     6484 non-null   int32  \n",
      " 1   Age                                        6484 non-null   int64  \n",
      " 2   Household Size                             6484 non-null   int64  \n",
      " 3   Time In Current Job                        6484 non-null   float64\n",
      " 4   Sleep Hours                                6484 non-null   float64\n",
      " 5   Sedentary Time                             6484 non-null   float64\n",
      " 6   Vigorous Work                              6484 non-null   int64  \n",
      " 7   Moderate Work                              6484 non-null   int64  \n",
      " 8   Trouble Sleeping                           6484 non-null   int64  \n",
      " 9   Recreation                                 6484 non-null   int64  \n",
      " 10  Can Work                                   6484 non-null   int64  \n",
      " 11  Heart Problem                              6484 non-null   int64  \n",
      " 12  Diabetes                                   6484 non-null   int64  \n",
      " 13  Education Level_9-11th Grade               6484 non-null   uint8  \n",
      " 14  Education Level_College Graduate or Above  6484 non-null   uint8  \n",
      " 15  Education Level_College or Degree          6484 non-null   uint8  \n",
      " 16  Education Level_High School                6484 non-null   uint8  \n",
      " 17  Education Level_Less Than 9th Grade        6484 non-null   uint8  \n",
      " 18  Marital Status_Divorced                    6484 non-null   uint8  \n",
      " 19  Marital Status_Married                     6484 non-null   uint8  \n",
      " 20  Marital Status_Never Married               6484 non-null   uint8  \n",
      " 21  Marital Status_Partner                     6484 non-null   uint8  \n",
      " 22  Marital Status_Separated                   6484 non-null   uint8  \n",
      " 23  Marital Status_Widowed                     6484 non-null   uint8  \n",
      " 24  Household Income_Above 40k                 6484 non-null   uint8  \n",
      " 25  Household Income_Below 40k                 6484 non-null   uint8  \n",
      "dtypes: float64(3), int32(1), int64(9), uint8(13)\n",
      "memory usage: 766.2 KB\n"
     ]
    }
   ],
   "source": [
    "# Divide the data into independent and target variables\n",
    "# Independent variables\n",
    "X = data.drop(\"Depression\", axis=1) \n",
    "\n",
    "# Target variable\n",
    "y = data[\"Depression\"] \n",
    "\n",
    "# Split the data into training and testing sets\n",
    "X_train, X_test, y_train, y_test = train_test_split(X, y, test_size=0.2, random_state=42)\n",
    "\n",
    "X_test.info()"
   ]
  },
  {
   "cell_type": "code",
   "execution_count": 61,
   "id": "0940ed17",
   "metadata": {},
   "outputs": [
    {
     "name": "stderr",
     "output_type": "stream",
     "text": [
      "C:\\Users\\DELL\\anaconda3\\lib\\site-packages\\sklearn\\linear_model\\_logistic.py:814: ConvergenceWarning: lbfgs failed to converge (status=1):\n",
      "STOP: TOTAL NO. of ITERATIONS REACHED LIMIT.\n",
      "\n",
      "Increase the number of iterations (max_iter) or scale the data as shown in:\n",
      "    https://scikit-learn.org/stable/modules/preprocessing.html\n",
      "Please also refer to the documentation for alternative solver options:\n",
      "    https://scikit-learn.org/stable/modules/linear_model.html#logistic-regression\n",
      "  n_iter_i = _check_optimize_result(\n"
     ]
    },
    {
     "data": {
      "text/plain": [
       "LogisticRegression()"
      ]
     },
     "execution_count": 61,
     "metadata": {},
     "output_type": "execute_result"
    }
   ],
   "source": [
    "\n",
    "# Train a logistic regression model\n",
    "logreg = LogisticRegression()\n",
    "\n",
    "logreg.fit(X_train, y_train)\n",
    "\n"
   ]
  },
  {
   "cell_type": "code",
   "execution_count": 62,
   "id": "1fbc5454",
   "metadata": {},
   "outputs": [
    {
     "name": "stdout",
     "output_type": "stream",
     "text": [
      "[0]\n"
     ]
    }
   ],
   "source": [
    "\n",
    "## evaluate the model for smaple data set\n",
    "sample_data = pd.DataFrame([[1, 1, 1, 2, 3, 2, 0, 1, 0, 0, 1, 1, 0,1, 1, 1, 1, 1,1, 0, 1, 0, 0, 1, 1, 0]],\n",
    "                           columns=X.columns)\n",
    "predicted_depression = logreg.predict(sample_data)\n",
    "\n",
    "print(predicted_depression)"
   ]
  },
  {
   "cell_type": "code",
   "execution_count": 63,
   "id": "8265db11",
   "metadata": {},
   "outputs": [
    {
     "name": "stdout",
     "output_type": "stream",
     "text": [
      "Accuracy on testing set: 91.27%\n"
     ]
    }
   ],
   "source": [
    "# Evaluate the performance of the model on the testing set\n",
    "score = logreg.score(X_test, y_test)\n",
    "print(\"Accuracy on testing set: {:.2f}%\".format(score * 100))"
   ]
  },
  {
   "cell_type": "code",
   "execution_count": 64,
   "id": "b274aa4b",
   "metadata": {},
   "outputs": [
    {
     "name": "stdout",
     "output_type": "stream",
     "text": [
      "[[5868   57]\n",
      " [ 509   50]]\n"
     ]
    }
   ],
   "source": [
    "from sklearn.metrics import confusion_matrix\n",
    "\n",
    "y_pred = logreg.predict(X_test)\n",
    "cm = confusion_matrix(y_test, y_pred)\n",
    "print(cm)"
   ]
  },
  {
   "cell_type": "code",
   "execution_count": 65,
   "id": "e60ee067",
   "metadata": {},
   "outputs": [
    {
     "data": {
      "image/png": "[encoded data removed]",
      "text/plain": [
       "<Figure size 640x480 with 1 Axes>"
      ]
     },
     "metadata": {},
     "output_type": "display_data"
    }
   ],
   "source": [
    "import seaborn as sns\n",
    "from sklearn.metrics import confusion_matrix\n",
    "import matplotlib.pyplot as plt\n",
    "# Use the SVM model to predict the labels for the testing set\n",
    "y_pred = logreg.predict(X_test)\n",
    "\n",
    "# Compute the confusion matrix\n",
    "cm = confusion_matrix(y_test, y_pred)\n",
    "\n",
    "# Plot the confusion matrix as a heatmap using Seaborn\n",
    "sns.heatmap(cm, annot=True, cmap=\"Blues\", fmt=\"d\", cbar=False, annot_kws={\"fontsize\":14})\n",
    "plt.xlabel(\"Predicted label\", fontsize=14)\n",
    "plt.ylabel(\"True label\", fontsize=14)\n",
    "plt.title(\"Confusion Matrix\", fontsize=16)\n",
    "plt.show()\n"
   ]
  },
  {
   "cell_type": "code",
   "execution_count": 66,
   "id": "17525f53",
   "metadata": {},
   "outputs": [
    {
     "name": "stdout",
     "output_type": "stream",
     "text": [
      "              precision    recall  f1-score   support\n",
      "\n",
      "           0       0.92      0.99      0.95      5925\n",
      "           1       0.47      0.09      0.15       559\n",
      "\n",
      "    accuracy                           0.91      6484\n",
      "   macro avg       0.69      0.54      0.55      6484\n",
      "weighted avg       0.88      0.91      0.88      6484\n",
      "\n"
     ]
    }
   ],
   "source": [
    "from sklearn.metrics import classification_report\n",
    "\n",
    "# Make predictions on the testing set\n",
    "y_pred = logreg.predict(X_test)\n",
    "\n",
    "# Print the classification report\n",
    "print(classification_report(y_test, y_pred))\n"
   ]
  },
  {
   "cell_type": "code",
   "execution_count": 67,
   "id": "51698d0b",
   "metadata": {},
   "outputs": [
    {
     "data": {
      "text/plain": [
       "0.8811370655137536"
      ]
     },
     "execution_count": 67,
     "metadata": {},
     "output_type": "execute_result"
    }
   ],
   "source": [
    "from sklearn.metrics import precision_score, recall_score, f1_score\n",
    "\n",
    "# y_true and y_pred are the true and predicted labels, respectively\n",
    "precision = precision_score(y_test, y_pred, average='weighted', zero_division=1)\n",
    "recall = recall_score(y_test, y_pred, average='weighted', zero_division=1)\n",
    "f1 = f1_score(y_test, y_pred, average='weighted', zero_division=1)\n",
    "precision"
   ]
  },
  {
   "cell_type": "code",
   "execution_count": 68,
   "id": "e11ff452",
   "metadata": {},
   "outputs": [
    {
     "data": {
      "text/plain": [
       "0.9127082048118446"
      ]
     },
     "execution_count": 68,
     "metadata": {},
     "output_type": "execute_result"
    }
   ],
   "source": [
    "recall"
   ]
  },
  {
   "cell_type": "code",
   "execution_count": 69,
   "id": "77c17aa9",
   "metadata": {},
   "outputs": [
    {
     "data": {
      "text/plain": [
       "0.8846903019743314"
      ]
     },
     "execution_count": 69,
     "metadata": {},
     "output_type": "execute_result"
    }
   ],
   "source": [
    "f1"
   ]
  },
  {
   "cell_type": "code",
   "execution_count": null,
   "id": "f4cc5c13",
   "metadata": {},
   "outputs": [],
   "source": []
  }
 ],
 "metadata": {
  "kernelspec": {
   "display_name": "Python 3 (ipykernel)",
   "language": "python",
   "name": "python3"
  },
  "language_info": {
   "codemirror_mode": {
    "name": "ipython",
    "version": 3
   },
   "file_extension": ".py",
   "mimetype": "text/x-python",
   "name": "python",
   "nbconvert_exporter": "python",
   "pygments_lexer": "ipython3",
   "version": "3.9.13"
  }
 },
 "nbformat": 4,
 "nbformat_minor": 5
}
